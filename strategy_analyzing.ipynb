{
 "cells": [
  {
   "cell_type": "code",
   "execution_count": null,
   "id": "edf074f1",
   "metadata": {},
   "outputs": [],
   "source": [
    "import pandas as pd\n",
    "import numpy as np\n",
    "import os\n",
    "\n",
    "from StrategyAnalyzer import *\n"
   ]
  },
  {
   "cell_type": "code",
   "execution_count": null,
   "id": "1dec270e",
   "metadata": {},
   "outputs": [],
   "source": [
    "#init empty dataframe\n",
    "all_res=pd.DataFrame()"
   ]
  },
  {
   "cell_type": "code",
   "execution_count": null,
   "id": "c4aef39a",
   "metadata": {},
   "outputs": [],
   "source": [
    "#concatenate all results in one df\n",
    "for f in os.listdir('path/to/result_folder'):\n",
    "    \n",
    "    temp_df=pd.read_csv(f'path/to/result_folder/{f}')\n",
    "    all_res=pd.concat([all_res, temp_df])"
   ]
  },
  {
   "cell_type": "code",
   "execution_count": null,
   "id": "60af76c7",
   "metadata": {},
   "outputs": [],
   "source": [
    "# instantiating StrategyAnalayzer to analize yearly average return \n",
    "sa=StrategyAnalyzer(all_res, 'mean_return')"
   ]
  },
  {
   "cell_type": "code",
   "execution_count": null,
   "id": "c62ddb70",
   "metadata": {},
   "outputs": [],
   "source": [
    "#sort results\n",
    "sa.sort_agg_results('mean')"
   ]
  },
  {
   "cell_type": "code",
   "execution_count": null,
   "id": "d4f48778",
   "metadata": {},
   "outputs": [],
   "source": [
    "#check basic statistics for results\n",
    "sa.describe_results()"
   ]
  },
  {
   "cell_type": "code",
   "execution_count": null,
   "id": "d60a60e5",
   "metadata": {},
   "outputs": [],
   "source": [
    "#check relationship between parameter value and average yerly mean retunr\n",
    "sa.plot_params('bbands_window')"
   ]
  },
  {
   "cell_type": "code",
   "execution_count": null,
   "id": "cc694b1b",
   "metadata": {},
   "outputs": [],
   "source": [
    "#chart with whole results and marked results meeeting defined criteria\n",
    "sa.plot_best(metric_mean_limit=0.05,metric_std_limit=0.07)"
   ]
  },
  {
   "cell_type": "code",
   "execution_count": null,
   "id": "6a05d06e",
   "metadata": {},
   "outputs": [],
   "source": [
    "#find 30 results (metric_mean and metric_std) closest to ideal values of metrics\n",
    "sa.find_k_near_best(1,0,30)"
   ]
  },
  {
   "cell_type": "code",
   "execution_count": null,
   "id": "3de5f82a",
   "metadata": {},
   "outputs": [],
   "source": [
    "#dataframe with closest values\n",
    "sa.k_near_best"
   ]
  },
  {
   "cell_type": "code",
   "execution_count": null,
   "id": "afd9055e",
   "metadata": {},
   "outputs": [],
   "source": [
    "#chart with closest values and ideal point\n",
    "sa.plot_k_near_best()"
   ]
  },
  {
   "cell_type": "code",
   "execution_count": null,
   "id": "6b0df1d5",
   "metadata": {},
   "outputs": [],
   "source": [
    "#find results that are the best in terms of similarity to normal distribution\n",
    "sa.find_best_normal_dist()"
   ]
  },
  {
   "cell_type": "code",
   "execution_count": null,
   "id": "64a096dd",
   "metadata": {},
   "outputs": [],
   "source": []
  },
  {
   "cell_type": "code",
   "execution_count": null,
   "id": "5a8f7cad",
   "metadata": {},
   "outputs": [],
   "source": [
    "#dataframe with results closest to normal distribution\n",
    "sa.normal_best"
   ]
  },
  {
   "cell_type": "code",
   "execution_count": null,
   "id": "7cec2bb6",
   "metadata": {},
   "outputs": [],
   "source": []
  },
  {
   "cell_type": "code",
   "execution_count": null,
   "id": "118d55db",
   "metadata": {},
   "outputs": [],
   "source": []
  }
 ],
 "metadata": {
  "kernelspec": {
   "display_name": "Python 3 (ipykernel)",
   "language": "python",
   "name": "python3"
  },
  "language_info": {
   "codemirror_mode": {
    "name": "ipython",
    "version": 3
   },
   "file_extension": ".py",
   "mimetype": "text/x-python",
   "name": "python",
   "nbconvert_exporter": "python",
   "pygments_lexer": "ipython3",
   "version": "3.10.12"
  }
 },
 "nbformat": 4,
 "nbformat_minor": 5
}
